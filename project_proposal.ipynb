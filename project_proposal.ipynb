{
 "cells": [
  {
   "cell_type": "markdown",
   "id": "6347309c",
   "metadata": {},
   "source": [
    "## Project Proposal \n",
    "\n",
    "### Problem and Analysis\n",
    "Through this project, I plan to explore health behaviors and access to health care for individuals with and without disabilities. I hope to determine which aspects or types of disability may have the greatest impacts on healthy behaviors and access to care. I will also explore whether there are differences between states in these aspects of health for people with disabilities and evaluate this against states’ Medicaid and CHIP scorecards to see if states with better scores or higher Medicaid spending show different trends. \n",
    "\n",
    "### Data Sources and Access\n",
    "For data on people with disabilities, I will use the Centers for Disease Control and Prevention’s Disability and Health Data System, which includes data from the Behavioral Risk Factor Surveillance System and offers categorizations of individuals’ disabilities. This data can be downloaded directly from the CDC’s website as a CSV. In looking at measures of health care quality as relates to these issues, I plan to use scorecards and the “Child and Adult Health Care Quality Measures” from Medicaid’s website, which can also be directly downloaded as a CSV. My data on people without disabilities will be pulled from IPUMS Health Surveys website as a CSV. I may also include data from the IPUMS Medical Expenditure Panel Survey, however, this dataset is currently in a “beta” format, and I will be unable to determine its usefulness until I learn more about its limitations and conditions. Overall, my data is limited to people who do not live in institutions such as nursing homes, adult foster care, or other supported living facilities. This represents a significant limitation, as the experiences of people with disabilities in these settings may vary greatly from the experiences of people living in their own homes and communities, however, I was unable to find data including similar details on health behavior and access to healthcare for these populations.\n",
    "\n",
    "### Methods\n",
    "This project will require me to merge the datasets mentioned above and potentially do some re-formatting of the data. For instance, the Disability and Health Data System information is structured in a dense manner which is currently unusable, and this and other datasets will need to be reformatted before analysis. \n",
    "I plan to use visualizations comparing health behaviors and medical access between people with and without disabilities. If significant differences emerge between states, I may use a map to help display this information. \n",
    "I will test for differences between these populations, as well as explore the impact of factors such as race, gender, and type of disability on any patterns that emerge. Some datasets I plan to use contain data over time, if my datasets are compatible, I may include a time series analysis. \n",
    "\n",
    "### Success\n",
    "My project will be successful if I am able to test for the differences described above, and can determine what impact, if any states Medicaid spending and quality measures have on health measures for people with disabilities. \n",
    "\n"
   ]
  }
 ],
 "metadata": {
  "kernelspec": {
   "display_name": "Python 3",
   "language": "python",
   "name": "python3"
  },
  "language_info": {
   "codemirror_mode": {
    "name": "ipython",
    "version": 3
   },
   "file_extension": ".py",
   "mimetype": "text/x-python",
   "name": "python",
   "nbconvert_exporter": "python",
   "pygments_lexer": "ipython3",
   "version": "3.8.8"
  }
 },
 "nbformat": 4,
 "nbformat_minor": 5
}
