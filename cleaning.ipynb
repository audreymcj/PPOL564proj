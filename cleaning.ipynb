{
 "cells": [
  {
   "cell_type": "code",
   "execution_count": 1,
   "id": "3d54a7cd",
   "metadata": {},
   "outputs": [],
   "source": [
    "# Data Management/Investigation\n",
    "import pandas as pd\n",
    "from pandas.api.types import CategoricalDtype # Ordering categories\n",
    "import numpy as np\n",
    "import missingno as miss\n",
    "\n",
    "# Plotting libraries\n",
    "from plotnine import *\n",
    "import matplotlib.pyplot as plt\n",
    "import seaborn as sns"
   ]
  },
  {
   "cell_type": "code",
   "execution_count": 2,
   "id": "41e25638",
   "metadata": {},
   "outputs": [],
   "source": [
    "brfss = pd.read_sas('LLCP2020.XPT')"
   ]
  },
  {
   "cell_type": "code",
   "execution_count": 3,
   "id": "cf7cc1ca",
   "metadata": {},
   "outputs": [
    {
     "data": {
      "text/plain": [
       "_STATE      float64\n",
       "FMONTH      float64\n",
       "IDATE        object\n",
       "IMONTH       object\n",
       "IDAY         object\n",
       "             ...   \n",
       "_STOLDNA    float64\n",
       "_VIRCOLN    float64\n",
       "_SBONTIM    float64\n",
       "_CRCREC1    float64\n",
       "_AIDTST4    float64\n",
       "Length: 279, dtype: object"
      ]
     },
     "execution_count": 3,
     "metadata": {},
     "output_type": "execute_result"
    }
   ],
   "source": [
    "brfss.dtypes"
   ]
  },
  {
   "cell_type": "markdown",
   "id": "bc7f6bf4",
   "metadata": {},
   "source": [
    "combine cancer vars\n",
    "\n",
    "new lgbtq var - combine so, trans to just a y/n\n",
    "\n",
    "combine 1&2 for persdoc2 \n",
    "\n",
    "race to dummy categories \n",
    "\n",
    "language, hlthcvr1, educag to dummy cats\n",
    "\n",
    "create sum disability cat (incl cdassist) \n",
    "\n",
    "aces count "
   ]
  },
  {
   "cell_type": "code",
   "execution_count": 4,
   "id": "50e5ad0d",
   "metadata": {},
   "outputs": [],
   "source": [
    "#RECODING SOME DUMMIES \n",
    "def dumb_recode(item): \n",
    "    if item == 2: \n",
    "        return 0\n",
    "    elif item == 1:\n",
    "        return 1\n",
    "    else: \n",
    "        return np.NaN"
   ]
  },
  {
   "cell_type": "code",
   "execution_count": 5,
   "id": "f6c1b218",
   "metadata": {},
   "outputs": [],
   "source": [
    "#health factors/conditions\n",
    "brfss['EXERANY2'] = brfss['EXERANY2'].apply(dumb_recode)\n",
    "brfss['_LTASTH1'] = brfss['_LTASTH1'].apply(dumb_recode)\n",
    "brfss['ADDEPEV3'] = brfss['ADDEPEV3'].apply(dumb_recode)\n",
    "\n",
    "#non dummy to include: smoking, drinks/wk, diabetes, bmi, genhealth\n",
    "brfss[\"GENHLTH\"]=brfss[\"GENHLTH\"].replace([7,9], np.NaN)\n",
    "brfss[\"_SMOKER3\"]=brfss[\"_SMOKER3\"].replace(9, np.NaN)\n",
    "brfss[\"_DRNKWK1\"]=brfss[\"_DRNKWK1\"].replace(99900, np.NaN)\n",
    "\n",
    "#also add cancer \n",
    "\n",
    "\n",
    "#ACEs recode \n",
    "\n",
    "def ace_recode(var):\n",
    "    if var == 2.0 or var ==3.0: \n",
    "        return 1\n",
    "    else:\n",
    "        return 0\n",
    "    \n",
    "\n",
    "        \n",
    "#brfss[['ACEDEPRS','ACEDRINK','ACEDRUGS','ACEPRISN','ACEDIVRC']] = brfss[['ACEDEPRS','ACEDRINK','ACEDRUGS','ACEPRISN','ACEDIVRC']].apply(ace_recode2)\n",
    "#brfss[['ACEPUNCH','ACEHURT1','ACESWEAR','ACETOUCH','ACETTHEM','ACEHVSEX']] = brfss[['ACEPUNCH','ACEHURT1','ACESWEAR','ACETOUCH','ACETTHEM','ACEHVSEX']].apply(ace_recode)\n",
    "\n"
   ]
  },
  {
   "cell_type": "code",
   "execution_count": 6,
   "id": "fffa20e2",
   "metadata": {},
   "outputs": [
    {
     "name": "stderr",
     "output_type": "stream",
     "text": [
      "<ipython-input-6-1a1b9109a4ea>:8: SettingWithCopyWarning: \n",
      "A value is trying to be set on a copy of a slice from a DataFrame\n",
      "\n",
      "See the caveats in the documentation: https://pandas.pydata.org/pandas-docs/stable/user_guide/indexing.html#returning-a-view-versus-a-copy\n",
      "<ipython-input-6-1a1b9109a4ea>:9: SettingWithCopyWarning: \n",
      "A value is trying to be set on a copy of a slice from a DataFrame\n",
      "\n",
      "See the caveats in the documentation: https://pandas.pydata.org/pandas-docs/stable/user_guide/indexing.html#returning-a-view-versus-a-copy\n"
     ]
    }
   ],
   "source": [
    "#health access vars \n",
    "\n",
    "#check NAs \n",
    "brfss[\"CHECKUP1\"]=brfss[\"CHECKUP1\"].replace([7,8,9], np.NaN)\n",
    "brfss[\"LASTDEN4\"]=brfss[\"LASTDEN4\"].replace([7,8,9], np.NaN)\n",
    "\n",
    "#rearranging so having a doctor = 1 and not having a regular doctor = 0\n",
    "brfss.PERSDOC2[brfss.PERSDOC2==2] = 1\n",
    "brfss.PERSDOC2[brfss.PERSDOC2==3] = 0\n",
    "brfss[\"PERSDOC2\"]=brfss[\"PERSDOC2\"].replace([7,9], np.NaN)\n",
    "\n",
    "              \n",
    "brfss['MEDCOST'] = brfss['MEDCOST'].apply(dumb_recode)\n",
    "brfss['HLTHPLN1'] = brfss['HLTHPLN1'].apply(dumb_recode)\n",
    "\n",
    "\n"
   ]
  },
  {
   "cell_type": "code",
   "execution_count": 7,
   "id": "5c3d79fc",
   "metadata": {},
   "outputs": [],
   "source": [
    "#demographic dummies\n",
    "brfss['VETERAN3'] = brfss['VETERAN3'].apply(dumb_recode)\n",
    "brfss['SEXVAR'] = brfss['SEXVAR'].apply(dumb_recode)\n",
    "brfss['_URBSTAT'] = brfss['_URBSTAT'].apply(dumb_recode)\n",
    "#recoding male/female sexual orientation and transgender var to lgbtq dummy var\n",
    "brfss['lgbtq'] = np.where(brfss['SOMALE']==1,1, np.where(brfss['SOMALE']==3,1, np.where(brfss['SOMALE']==4,1, np.where(brfss['SOFEMALE']==1,1, np.where(brfss['SOFEMALE']==3,1, np.where(brfss['SOFEMALE']==4,1, np.where(brfss['TRNSGNDR']==1,1, np.where(brfss['TRNSGNDR']==2,1,  np.where(brfss['TRNSGNDR']==3,1,0)))))))))\n",
    "#turning all disability markers into single disability dummy \n",
    "brfss['dis'] = np.where(brfss['DEAF']==1,1, np.where(brfss['BLIND']==1,1, np.where(brfss['DECIDE']==1,1, np.where(brfss['DIFFWALK']==1,1, np.where(brfss['DIFFDRES']==1,1, np.where(brfss['DIFFALON']==1,1, np.where(brfss['CDASSIST']<3, 1, 0)))))))\n",
    "\n",
    "#missing codes\n",
    "brfss[\"_RACE\"]=brfss[\"_RACE\"].replace(9, np.NaN)\n",
    "brfss[\"MARITAL\"]=brfss[\"MARITAL\"].replace(9, np.NaN)\n",
    "#brfss[\"QSTLANG\"]=brfss[\"QSTLANG\"].replace(20, np.NaN)\n",
    "#brfss[\"ENGSPK\"]=brfss[\"QSTLANG\"].replace(2, 0)\n",
    "brfss[\"_EDUCAG\"]=brfss[\"_EDUCAG\"].replace(9, np.NaN)\n",
    "brfss[\"EMPLOY1\"]=brfss[\"EMPLOY1\"].replace(9, np.NaN)\n",
    "brfss[\"RENTHOM1\"]=brfss[\"RENTHOM1\"].replace([7,9], np.NaN)\n",
    "brfss[\"INCOME2\"]=brfss[\"INCOME2\"].replace([77,99], np.NaN)\n",
    "                                       \n",
    "                                       \n",
    "#race, marital status, homeownership, employment, language need to be converted to categorical dummies \n",
    "                                       "
   ]
  },
  {
   "cell_type": "code",
   "execution_count": 8,
   "id": "0ea30ca0",
   "metadata": {},
   "outputs": [
    {
     "data": {
      "text/html": [
       "<div>\n",
       "<style scoped>\n",
       "    .dataframe tbody tr th:only-of-type {\n",
       "        vertical-align: middle;\n",
       "    }\n",
       "\n",
       "    .dataframe tbody tr th {\n",
       "        vertical-align: top;\n",
       "    }\n",
       "\n",
       "    .dataframe thead th {\n",
       "        text-align: right;\n",
       "    }\n",
       "</style>\n",
       "<table border=\"1\" class=\"dataframe\">\n",
       "  <thead>\n",
       "    <tr style=\"text-align: right;\">\n",
       "      <th></th>\n",
       "      <th>_STATE</th>\n",
       "      <th>VETERAN3</th>\n",
       "      <th>SEXVAR</th>\n",
       "      <th>_URBSTAT</th>\n",
       "      <th>lgbtq</th>\n",
       "      <th>dis</th>\n",
       "      <th>_RACE</th>\n",
       "      <th>_AGE_G</th>\n",
       "      <th>MARITAL</th>\n",
       "      <th>_EDUCAG</th>\n",
       "      <th>...</th>\n",
       "      <th>CHECKUP1</th>\n",
       "      <th>LASTDEN4</th>\n",
       "      <th>MEDCOST</th>\n",
       "      <th>HLTHPLN1</th>\n",
       "      <th>GENHLTH</th>\n",
       "      <th>_SMOKER3</th>\n",
       "      <th>_DRNKWK1</th>\n",
       "      <th>EXERANY2</th>\n",
       "      <th>_LTASTH1</th>\n",
       "      <th>ADDEPEV3</th>\n",
       "    </tr>\n",
       "  </thead>\n",
       "  <tbody>\n",
       "    <tr>\n",
       "      <th>0</th>\n",
       "      <td>1.0</td>\n",
       "      <td>0.0</td>\n",
       "      <td>0</td>\n",
       "      <td>1.0</td>\n",
       "      <td>0</td>\n",
       "      <td>1</td>\n",
       "      <td>1.0</td>\n",
       "      <td>5.0</td>\n",
       "      <td>2.0</td>\n",
       "      <td>4.0</td>\n",
       "      <td>...</td>\n",
       "      <td>4.0</td>\n",
       "      <td>1.0</td>\n",
       "      <td>1.0</td>\n",
       "      <td>0.0</td>\n",
       "      <td>2.0</td>\n",
       "      <td>1.0</td>\n",
       "      <td>5.397605e-79</td>\n",
       "      <td>1.0</td>\n",
       "      <td>0.0</td>\n",
       "      <td>1.0</td>\n",
       "    </tr>\n",
       "    <tr>\n",
       "      <th>1</th>\n",
       "      <td>1.0</td>\n",
       "      <td>0.0</td>\n",
       "      <td>0</td>\n",
       "      <td>1.0</td>\n",
       "      <td>0</td>\n",
       "      <td>0</td>\n",
       "      <td>2.0</td>\n",
       "      <td>6.0</td>\n",
       "      <td>3.0</td>\n",
       "      <td>4.0</td>\n",
       "      <td>...</td>\n",
       "      <td>1.0</td>\n",
       "      <td>1.0</td>\n",
       "      <td>1.0</td>\n",
       "      <td>1.0</td>\n",
       "      <td>3.0</td>\n",
       "      <td>NaN</td>\n",
       "      <td>NaN</td>\n",
       "      <td>1.0</td>\n",
       "      <td>0.0</td>\n",
       "      <td>1.0</td>\n",
       "    </tr>\n",
       "    <tr>\n",
       "      <th>2</th>\n",
       "      <td>1.0</td>\n",
       "      <td>0.0</td>\n",
       "      <td>0</td>\n",
       "      <td>1.0</td>\n",
       "      <td>0</td>\n",
       "      <td>0</td>\n",
       "      <td>2.0</td>\n",
       "      <td>6.0</td>\n",
       "      <td>1.0</td>\n",
       "      <td>3.0</td>\n",
       "      <td>...</td>\n",
       "      <td>1.0</td>\n",
       "      <td>1.0</td>\n",
       "      <td>0.0</td>\n",
       "      <td>1.0</td>\n",
       "      <td>3.0</td>\n",
       "      <td>4.0</td>\n",
       "      <td>5.397605e-79</td>\n",
       "      <td>1.0</td>\n",
       "      <td>1.0</td>\n",
       "      <td>0.0</td>\n",
       "    </tr>\n",
       "    <tr>\n",
       "      <th>3</th>\n",
       "      <td>1.0</td>\n",
       "      <td>0.0</td>\n",
       "      <td>0</td>\n",
       "      <td>1.0</td>\n",
       "      <td>0</td>\n",
       "      <td>0</td>\n",
       "      <td>1.0</td>\n",
       "      <td>6.0</td>\n",
       "      <td>3.0</td>\n",
       "      <td>2.0</td>\n",
       "      <td>...</td>\n",
       "      <td>2.0</td>\n",
       "      <td>NaN</td>\n",
       "      <td>0.0</td>\n",
       "      <td>1.0</td>\n",
       "      <td>1.0</td>\n",
       "      <td>4.0</td>\n",
       "      <td>5.397605e-79</td>\n",
       "      <td>0.0</td>\n",
       "      <td>1.0</td>\n",
       "      <td>0.0</td>\n",
       "    </tr>\n",
       "    <tr>\n",
       "      <th>4</th>\n",
       "      <td>1.0</td>\n",
       "      <td>0.0</td>\n",
       "      <td>0</td>\n",
       "      <td>1.0</td>\n",
       "      <td>0</td>\n",
       "      <td>0</td>\n",
       "      <td>1.0</td>\n",
       "      <td>6.0</td>\n",
       "      <td>3.0</td>\n",
       "      <td>4.0</td>\n",
       "      <td>...</td>\n",
       "      <td>1.0</td>\n",
       "      <td>NaN</td>\n",
       "      <td>0.0</td>\n",
       "      <td>1.0</td>\n",
       "      <td>2.0</td>\n",
       "      <td>4.0</td>\n",
       "      <td>5.397605e-79</td>\n",
       "      <td>1.0</td>\n",
       "      <td>1.0</td>\n",
       "      <td>0.0</td>\n",
       "    </tr>\n",
       "    <tr>\n",
       "      <th>...</th>\n",
       "      <td>...</td>\n",
       "      <td>...</td>\n",
       "      <td>...</td>\n",
       "      <td>...</td>\n",
       "      <td>...</td>\n",
       "      <td>...</td>\n",
       "      <td>...</td>\n",
       "      <td>...</td>\n",
       "      <td>...</td>\n",
       "      <td>...</td>\n",
       "      <td>...</td>\n",
       "      <td>...</td>\n",
       "      <td>...</td>\n",
       "      <td>...</td>\n",
       "      <td>...</td>\n",
       "      <td>...</td>\n",
       "      <td>...</td>\n",
       "      <td>...</td>\n",
       "      <td>...</td>\n",
       "      <td>...</td>\n",
       "      <td>...</td>\n",
       "    </tr>\n",
       "    <tr>\n",
       "      <th>401953</th>\n",
       "      <td>72.0</td>\n",
       "      <td>0.0</td>\n",
       "      <td>0</td>\n",
       "      <td>NaN</td>\n",
       "      <td>0</td>\n",
       "      <td>1</td>\n",
       "      <td>8.0</td>\n",
       "      <td>4.0</td>\n",
       "      <td>2.0</td>\n",
       "      <td>3.0</td>\n",
       "      <td>...</td>\n",
       "      <td>2.0</td>\n",
       "      <td>2.0</td>\n",
       "      <td>0.0</td>\n",
       "      <td>0.0</td>\n",
       "      <td>3.0</td>\n",
       "      <td>4.0</td>\n",
       "      <td>5.397605e-79</td>\n",
       "      <td>1.0</td>\n",
       "      <td>1.0</td>\n",
       "      <td>1.0</td>\n",
       "    </tr>\n",
       "    <tr>\n",
       "      <th>401954</th>\n",
       "      <td>72.0</td>\n",
       "      <td>0.0</td>\n",
       "      <td>0</td>\n",
       "      <td>NaN</td>\n",
       "      <td>0</td>\n",
       "      <td>0</td>\n",
       "      <td>8.0</td>\n",
       "      <td>2.0</td>\n",
       "      <td>1.0</td>\n",
       "      <td>1.0</td>\n",
       "      <td>...</td>\n",
       "      <td>3.0</td>\n",
       "      <td>1.0</td>\n",
       "      <td>0.0</td>\n",
       "      <td>1.0</td>\n",
       "      <td>3.0</td>\n",
       "      <td>4.0</td>\n",
       "      <td>5.397605e-79</td>\n",
       "      <td>0.0</td>\n",
       "      <td>1.0</td>\n",
       "      <td>0.0</td>\n",
       "    </tr>\n",
       "    <tr>\n",
       "      <th>401955</th>\n",
       "      <td>72.0</td>\n",
       "      <td>0.0</td>\n",
       "      <td>0</td>\n",
       "      <td>NaN</td>\n",
       "      <td>0</td>\n",
       "      <td>0</td>\n",
       "      <td>8.0</td>\n",
       "      <td>6.0</td>\n",
       "      <td>1.0</td>\n",
       "      <td>2.0</td>\n",
       "      <td>...</td>\n",
       "      <td>2.0</td>\n",
       "      <td>1.0</td>\n",
       "      <td>0.0</td>\n",
       "      <td>1.0</td>\n",
       "      <td>3.0</td>\n",
       "      <td>4.0</td>\n",
       "      <td>5.397605e-79</td>\n",
       "      <td>1.0</td>\n",
       "      <td>1.0</td>\n",
       "      <td>0.0</td>\n",
       "    </tr>\n",
       "    <tr>\n",
       "      <th>401956</th>\n",
       "      <td>72.0</td>\n",
       "      <td>0.0</td>\n",
       "      <td>1</td>\n",
       "      <td>NaN</td>\n",
       "      <td>0</td>\n",
       "      <td>1</td>\n",
       "      <td>8.0</td>\n",
       "      <td>5.0</td>\n",
       "      <td>1.0</td>\n",
       "      <td>4.0</td>\n",
       "      <td>...</td>\n",
       "      <td>1.0</td>\n",
       "      <td>1.0</td>\n",
       "      <td>0.0</td>\n",
       "      <td>1.0</td>\n",
       "      <td>3.0</td>\n",
       "      <td>NaN</td>\n",
       "      <td>2.000000e+02</td>\n",
       "      <td>1.0</td>\n",
       "      <td>1.0</td>\n",
       "      <td>0.0</td>\n",
       "    </tr>\n",
       "    <tr>\n",
       "      <th>401957</th>\n",
       "      <td>72.0</td>\n",
       "      <td>0.0</td>\n",
       "      <td>0</td>\n",
       "      <td>NaN</td>\n",
       "      <td>0</td>\n",
       "      <td>1</td>\n",
       "      <td>8.0</td>\n",
       "      <td>5.0</td>\n",
       "      <td>1.0</td>\n",
       "      <td>4.0</td>\n",
       "      <td>...</td>\n",
       "      <td>1.0</td>\n",
       "      <td>1.0</td>\n",
       "      <td>0.0</td>\n",
       "      <td>1.0</td>\n",
       "      <td>3.0</td>\n",
       "      <td>4.0</td>\n",
       "      <td>5.397605e-79</td>\n",
       "      <td>0.0</td>\n",
       "      <td>0.0</td>\n",
       "      <td>1.0</td>\n",
       "    </tr>\n",
       "  </tbody>\n",
       "</table>\n",
       "<p>401958 rows × 24 columns</p>\n",
       "</div>"
      ],
      "text/plain": [
       "        _STATE  VETERAN3  SEXVAR  _URBSTAT  lgbtq  dis  _RACE  _AGE_G  \\\n",
       "0          1.0       0.0       0       1.0      0    1    1.0     5.0   \n",
       "1          1.0       0.0       0       1.0      0    0    2.0     6.0   \n",
       "2          1.0       0.0       0       1.0      0    0    2.0     6.0   \n",
       "3          1.0       0.0       0       1.0      0    0    1.0     6.0   \n",
       "4          1.0       0.0       0       1.0      0    0    1.0     6.0   \n",
       "...        ...       ...     ...       ...    ...  ...    ...     ...   \n",
       "401953    72.0       0.0       0       NaN      0    1    8.0     4.0   \n",
       "401954    72.0       0.0       0       NaN      0    0    8.0     2.0   \n",
       "401955    72.0       0.0       0       NaN      0    0    8.0     6.0   \n",
       "401956    72.0       0.0       1       NaN      0    1    8.0     5.0   \n",
       "401957    72.0       0.0       0       NaN      0    1    8.0     5.0   \n",
       "\n",
       "        MARITAL  _EDUCAG  ...  CHECKUP1  LASTDEN4  MEDCOST  HLTHPLN1  GENHLTH  \\\n",
       "0           2.0      4.0  ...       4.0       1.0      1.0       0.0      2.0   \n",
       "1           3.0      4.0  ...       1.0       1.0      1.0       1.0      3.0   \n",
       "2           1.0      3.0  ...       1.0       1.0      0.0       1.0      3.0   \n",
       "3           3.0      2.0  ...       2.0       NaN      0.0       1.0      1.0   \n",
       "4           3.0      4.0  ...       1.0       NaN      0.0       1.0      2.0   \n",
       "...         ...      ...  ...       ...       ...      ...       ...      ...   \n",
       "401953      2.0      3.0  ...       2.0       2.0      0.0       0.0      3.0   \n",
       "401954      1.0      1.0  ...       3.0       1.0      0.0       1.0      3.0   \n",
       "401955      1.0      2.0  ...       2.0       1.0      0.0       1.0      3.0   \n",
       "401956      1.0      4.0  ...       1.0       1.0      0.0       1.0      3.0   \n",
       "401957      1.0      4.0  ...       1.0       1.0      0.0       1.0      3.0   \n",
       "\n",
       "        _SMOKER3      _DRNKWK1  EXERANY2  _LTASTH1  ADDEPEV3  \n",
       "0            1.0  5.397605e-79       1.0       0.0       1.0  \n",
       "1            NaN           NaN       1.0       0.0       1.0  \n",
       "2            4.0  5.397605e-79       1.0       1.0       0.0  \n",
       "3            4.0  5.397605e-79       0.0       1.0       0.0  \n",
       "4            4.0  5.397605e-79       1.0       1.0       0.0  \n",
       "...          ...           ...       ...       ...       ...  \n",
       "401953       4.0  5.397605e-79       1.0       1.0       1.0  \n",
       "401954       4.0  5.397605e-79       0.0       1.0       0.0  \n",
       "401955       4.0  5.397605e-79       1.0       1.0       0.0  \n",
       "401956       NaN  2.000000e+02       1.0       1.0       0.0  \n",
       "401957       4.0  5.397605e-79       0.0       0.0       1.0  \n",
       "\n",
       "[401958 rows x 24 columns]"
      ]
     },
     "execution_count": 8,
     "metadata": {},
     "output_type": "execute_result"
    }
   ],
   "source": [
    "brfss2 = brfss[['_STATE','VETERAN3','SEXVAR','_URBSTAT','lgbtq','dis','_RACE','_AGE_G','MARITAL','_EDUCAG','EMPLOY1','RENTHOM1','INCOME2','PERSDOC2','CHECKUP1','LASTDEN4','MEDCOST','HLTHPLN1','GENHLTH','_SMOKER3','_DRNKWK1','EXERANY2','_LTASTH1','ADDEPEV3']]\n",
    "brfss2"
   ]
  },
  {
   "cell_type": "code",
   "execution_count": 9,
   "id": "936774c1",
   "metadata": {},
   "outputs": [
    {
     "data": {
      "text/plain": [
       "state                                              object\n",
       "domain                                             object\n",
       "reporting_program                                  object\n",
       "measure_name                                       object\n",
       "measure_abbreviation                               object\n",
       "measure_type                                       object\n",
       "rate_definition                                    object\n",
       "ffy                                                 int64\n",
       "population                                         object\n",
       "methodology                                        object\n",
       "state_rate                                         object\n",
       "number_of_states_reporting                          int64\n",
       "median                                            float64\n",
       "bottom_quartile                                   float64\n",
       "top_quartile                                      float64\n",
       "notes                                              object\n",
       "source                                             object\n",
       "statespecific_comments                             object\n",
       "rate_used_in_calculating_state_mean_and_median     object\n",
       "dtype: object"
      ]
     },
     "execution_count": 9,
     "metadata": {},
     "output_type": "execute_result"
    }
   ],
   "source": [
    "qoc = pd.read_csv(\"QOC.csv\")\n",
    "qoc.dtypes"
   ]
  },
  {
   "cell_type": "code",
   "execution_count": 10,
   "id": "90a67291",
   "metadata": {},
   "outputs": [],
   "source": [
    "qoc['state_rate'] =qoc['state_rate'].replace([\"NR\",\"DS\",\"#\"], np.NaN)\n",
    "qoc['state_rate'] =pd.to_numeric(qoc.state_rate)"
   ]
  },
  {
   "cell_type": "code",
   "execution_count": 11,
   "id": "6d268b24",
   "metadata": {},
   "outputs": [],
   "source": [
    "new = pd.pivot_table(qoc, values = 'state_rate', index = ['state'], columns = [\"rate_definition\"])"
   ]
  },
  {
   "cell_type": "code",
   "execution_count": 12,
   "id": "9d20774c",
   "metadata": {},
   "outputs": [],
   "source": [
    "#making negative the columns where lower is better. for reasons \n",
    "new[\"Percentage Without Cancer who Received Prescriptions for Opioids with an Average Daily Dosage Greater than or Equal to 90 Morphine Milligram Equivalents Over 90 Consecutive Days or More: Ages 18 to 64\"]= new[\"Percentage Without Cancer who Received Prescriptions for Opioids with an Average Daily Dosage Greater than or Equal to 90 Morphine Milligram Equivalents Over 90 Consecutive Days or More: Ages 18 to 64\"]*-1\n",
    "new['Inpatient Hospital Admissions for Chronic Obstructive Pulmonary Disease (COPD) or Asthma per 100,000 Beneficiary Months: Ages 40 to 64']=new['Inpatient Hospital Admissions for Chronic Obstructive Pulmonary Disease (COPD) or Asthma per 100,000 Beneficiary Months: Ages 40 to 64']*-1\n",
    "new['Inpatient Hospital Admissions for Asthma per 100,000 Beneficiary Months: Ages 18 to 39']=new['Inpatient Hospital Admissions for Asthma per 100,000 Beneficiary Months: Ages 18 to 39']*-1\n",
    "new['Inpatient Hospital Admissions for Diabetes Short-Term Complications per 100,000 Beneficiary Months: Ages 18 to 64']=new['Inpatient Hospital Admissions for Diabetes Short-Term Complications per 100,000 Beneficiary Months: Ages 18 to 64']*-1\n",
    "new['Inpatient Hospital Admissions for Heart Failure per 100,000 Beneficiary Months: Ages 18 to 64']=new['Inpatient Hospital Admissions for Heart Failure per 100,000 Beneficiary Months: Ages 18 to 64']*-1\n",
    "new['Percentage with Diabetes (Type 1 or Type 2) who had Hemoglobin A1c in Poor Control (>9.0%): Ages 18 to 64']=new['Percentage with Diabetes (Type 1 or Type 2) who had Hemoglobin A1c in Poor Control (>9.0%): Ages 18 to 64']*-1\n",
    "new['Ratio of Observed All-Cause Readmissions to Expected Readmissions: Ages 18 to 64']=new['Ratio of Observed All-Cause Readmissions to Expected Readmissions: Ages 18 to 64']*-1\n",
    "new['Percentage with Concurrent Use of Prescription Opioids and Benzodiazepines: Ages 18 to 64']=new['Percentage with Concurrent Use of Prescription Opioids and Benzodiazepines: Ages 18 to 64']*-1"
   ]
  },
  {
   "cell_type": "code",
   "execution_count": 13,
   "id": "068e56a3",
   "metadata": {},
   "outputs": [],
   "source": [
    "new2=new.apply(pd.qcut, q=5 , labels = False)"
   ]
  },
  {
   "cell_type": "code",
   "execution_count": 14,
   "id": "b0b87b3c",
   "metadata": {},
   "outputs": [
    {
     "data": {
      "text/plain": [
       "1.750000    2\n",
       "1.108108    1\n",
       "1.352941    1\n",
       "1.704545    1\n",
       "2.718750    1\n",
       "1.909091    1\n",
       "2.577778    1\n",
       "1.812500    1\n",
       "2.925000    1\n",
       "0.948718    1\n",
       "2.600000    1\n",
       "2.187500    1\n",
       "2.142857    1\n",
       "1.255814    1\n",
       "2.195122    1\n",
       "2.148936    1\n",
       "2.843750    1\n",
       "1.250000    1\n",
       "1.810811    1\n",
       "1.558824    1\n",
       "1.742857    1\n",
       "1.269231    1\n",
       "2.375000    1\n",
       "1.000000    1\n",
       "1.923077    1\n",
       "1.526316    1\n",
       "2.028571    1\n",
       "2.229167    1\n",
       "3.027778    1\n",
       "2.153846    1\n",
       "2.317073    1\n",
       "1.581395    1\n",
       "2.656250    1\n",
       "1.655172    1\n",
       "2.136364    1\n",
       "2.916667    1\n",
       "1.850000    1\n",
       "1.454545    1\n",
       "2.227273    1\n",
       "1.692308    1\n",
       "1.090909    1\n",
       "0.837209    1\n",
       "2.159091    1\n",
       "2.933333    1\n",
       "2.955556    1\n",
       "2.045455    1\n",
       "2.250000    1\n",
       "0.741935    1\n",
       "2.166667    1\n",
       "Name: avgqoc, dtype: int64"
      ]
     },
     "execution_count": 14,
     "metadata": {},
     "output_type": "execute_result"
    }
   ],
   "source": [
    "new2['avgqoc']= new2.mean(axis=1,skipna=True)\n",
    "new2['avgqoc'].value_counts()"
   ]
  },
  {
   "cell_type": "code",
   "execution_count": 15,
   "id": "b3545419",
   "metadata": {},
   "outputs": [
    {
     "data": {
      "text/plain": [
       "state\n",
       "Alabama                 0.837209\n",
       "Arizona                 1.810811\n",
       "Arkansas                0.741935\n",
       "California              1.923077\n",
       "Colorado                1.750000\n",
       "Connecticut             2.955556\n",
       "Delaware                2.142857\n",
       "District of Columbia    1.655172\n",
       "Florida                 1.692308\n",
       "Georgia                 1.750000\n",
       "Hawaii                  1.558824\n",
       "Idaho                   1.090909\n",
       "Illinois                1.250000\n",
       "Indiana                 2.656250\n",
       "Iowa                    1.581395\n",
       "Kansas                  2.136364\n",
       "Kentucky                2.166667\n",
       "Louisiana               2.317073\n",
       "Maine                   1.909091\n",
       "Maryland                2.718750\n",
       "Massachusetts           2.916667\n",
       "Michigan                1.108108\n",
       "Minnesota               2.195122\n",
       "Mississippi             0.948718\n",
       "Missouri                1.704545\n",
       "Nebraska                1.812500\n",
       "Nevada                  1.454545\n",
       "New Hampshire           2.933333\n",
       "New Jersey              1.742857\n",
       "New Mexico              1.352941\n",
       "New York                2.925000\n",
       "North Carolina          2.153846\n",
       "North Dakota            1.850000\n",
       "Ohio                    2.843750\n",
       "Oklahoma                1.000000\n",
       "Oregon                  2.250000\n",
       "Pennsylvania            2.148936\n",
       "Puerto Rico             2.187500\n",
       "Rhode Island            3.027778\n",
       "South Carolina          2.045455\n",
       "South Dakota            1.526316\n",
       "Tennessee               2.229167\n",
       "Texas                   1.255814\n",
       "Utah                    2.600000\n",
       "Vermont                 2.577778\n",
       "Virginia                2.028571\n",
       "Washington              2.227273\n",
       "West Virginia           2.159091\n",
       "Wisconsin               2.375000\n",
       "Wyoming                 1.269231\n",
       "Name: avgqoc, dtype: float64"
      ]
     },
     "execution_count": 15,
     "metadata": {},
     "output_type": "execute_result"
    }
   ],
   "source": [
    "new2 = new2['avgqoc']\n",
    "new2"
   ]
  },
  {
   "cell_type": "code",
   "execution_count": 16,
   "id": "5e73c192",
   "metadata": {},
   "outputs": [
    {
     "data": {
      "text/plain": [
       "VETERAN3    float64\n",
       "SEXVAR        int64\n",
       "_URBSTAT    float64\n",
       "lgbtq         int32\n",
       "dis           int32\n",
       "_RACE       float64\n",
       "_AGE_G      float64\n",
       "MARITAL     float64\n",
       "_EDUCAG     float64\n",
       "EMPLOY1     float64\n",
       "RENTHOM1    float64\n",
       "INCOME2     float64\n",
       "PERSDOC2    float64\n",
       "CHECKUP1    float64\n",
       "LASTDEN4    float64\n",
       "MEDCOST     float64\n",
       "HLTHPLN1    float64\n",
       "GENHLTH     float64\n",
       "_SMOKER3    float64\n",
       "_DRNKWK1    float64\n",
       "EXERANY2    float64\n",
       "_LTASTH1    float64\n",
       "ADDEPEV3    float64\n",
       "state        object\n",
       "avgqoc      float64\n",
       "dtype: object"
      ]
     },
     "execution_count": 16,
     "metadata": {},
     "output_type": "execute_result"
    }
   ],
   "source": [
    "states = pd.read_csv('brfss_states.csv')\n",
    "brfss2 = brfss2.merge(states, how='left',left_on=\"_STATE\", right_on=\"value\")\n",
    "dat = brfss2.merge(new2, how='left',left_on='state',right_index=True)\n",
    "dat=dat.drop(columns=['value'])\n",
    "dat=dat.drop(columns=['_STATE'])\n",
    "dat.dtypes"
   ]
  },
  {
   "cell_type": "code",
   "execution_count": 17,
   "id": "b255f7d2",
   "metadata": {},
   "outputs": [
    {
     "data": {
      "text/plain": [
       "<AxesSubplot:>"
      ]
     },
     "execution_count": 17,
     "metadata": {},
     "output_type": "execute_result"
    },
    {
     "data": {
      "image/png": "[encoded data removed]",
      "text/plain": [
       "<Figure size 1800x720 with 2 Axes>"
      ]
     },
     "metadata": {
      "needs_background": "light"
     },
     "output_type": "display_data"
    }
   ],
   "source": [
    "miss.matrix(dat) "
   ]
  },
  {
   "cell_type": "code",
   "execution_count": 18,
   "id": "07313239",
   "metadata": {},
   "outputs": [],
   "source": [
    "mar_dum = pd.get_dummies(dat[\"MARITAL\"])\n",
    "mar_dum= mar_dum.rename(columns={1: \"married\", 2: \"divorced\", 3:\"widowed\", 4:'separated', 5:'single', 6:'coupled'})\n",
    "mar_dum = mar_dum.drop(['separated'],axis=1) #baseline\n",
    "dat = pd.concat([dat.drop(['MARITAL'],axis=1),mar_dum],axis=1)\n",
    "\n",
    "\n",
    "emp_dum = pd.get_dummies(dat[\"EMPLOY1\"])\n",
    "emp_dum= emp_dum.rename(columns={1: \"employed\", 2: \"selfemployed\", 3:\"worklessover1\", 4:'worklessunder1', 5:'homemaker', 6:'student',7:'retired',8:'unable'})\n",
    "emp_dum = emp_dum.drop(['homemaker'],axis=1) #baseline\n",
    "dat = pd.concat([dat.drop(['EMPLOY1'],axis=1),emp_dum],axis=1)\n",
    "\n",
    "\n",
    "home_dum = pd.get_dummies(dat[\"RENTHOM1\"])\n",
    "home_dum= home_dum.rename(columns={1: \"own\", 2: \"rent\", 3:\"other\"})\n",
    "home_dum = home_dum.drop(['other'],axis=1) #baseline\n",
    "dat = pd.concat([dat.drop(['RENTHOM1'],axis=1),home_dum],axis=1)\n",
    "\n",
    "\n",
    "race_dum = pd.get_dummies(dat[\"_RACE\"])\n",
    "race_dum= race_dum.rename(columns={1: \"white\", 2: \"black\", 3:\"aian\", 4:'asian', 5:'nhpi', 6:'other',7:'multi',8:'hispanic'})\n",
    "race_dum = race_dum.drop(['nhpi'],axis=1) #baseline\n",
    "dat = pd.concat([dat.drop(['_RACE'],axis=1), race_dum],axis=1)"
   ]
  },
  {
   "cell_type": "code",
   "execution_count": 19,
   "id": "642bca52",
   "metadata": {},
   "outputs": [
    {
     "name": "stderr",
     "output_type": "stream",
     "text": [
      "C:\\anaconda3\\lib\\site-packages\\plotnine\\layer.py:324: PlotnineWarning: stat_bin : Removed 179960 rows containing non-finite values.\n"
     ]
    },
    {
     "data": {
      "image/png": "[encoded data removed]",
      "text/plain": [
       "<Figure size 1000x300 with 18 Axes>"
      ]
     },
     "metadata": {},
     "output_type": "display_data"
    },
    {
     "data": {
      "text/plain": [
       "<ggplot: (143095002935)>"
      ]
     },
     "execution_count": 19,
     "metadata": {},
     "output_type": "execute_result"
    }
   ],
   "source": [
    "# Plot the continuous Variables \n",
    "d = dat.select_dtypes(include=(\"int64\", \"float64\")).melt()\n",
    "(\n",
    "    ggplot(d,aes(x=\"value\")) +\n",
    "    geom_histogram(bins=25) +\n",
    "    facet_wrap(\"variable\",scales='free') +\n",
    "    theme(figure_size=(10,3),\n",
    "          subplots_adjust={'wspace':0.25,\n",
    "                           'hspace':0.75})\n",
    ")"
   ]
  },
  {
   "cell_type": "code",
   "execution_count": 20,
   "id": "b88bd131",
   "metadata": {},
   "outputs": [
    {
     "name": "stderr",
     "output_type": "stream",
     "text": [
      "C:\\anaconda3\\lib\\site-packages\\plotnine\\layer.py:324: PlotnineWarning: stat_bin : Removed 30691 rows containing non-finite values.\n"
     ]
    },
    {
     "data": {
      "image/png": "[encoded data removed]",
      "text/plain": [
       "<Figure size 1000x300 with 1 Axes>"
      ]
     },
     "metadata": {},
     "output_type": "display_data"
    },
    {
     "data": {
      "text/plain": [
       "<ggplot: (143084884252)>"
      ]
     },
     "execution_count": 20,
     "metadata": {},
     "output_type": "execute_result"
    }
   ],
   "source": [
    "#drinking looks goofy so I'm going to try logging it\n",
    "\n",
    "d = dat.copy()\n",
    "d['ln_drink'] =  np.log(d['_DRNKWK1'] + 1)\n",
    "(\n",
    "    ggplot(d,aes(x=\"ln_drink\")) +\n",
    "    geom_histogram(bins=25) +\n",
    "    theme(figure_size=(10,3),\n",
    "          subplots_adjust={'wspace':0.25})\n",
    ")"
   ]
  },
  {
   "cell_type": "code",
   "execution_count": 21,
   "id": "a8f63f89",
   "metadata": {},
   "outputs": [],
   "source": [
    "#turning drinks/wk into a categorical variable because of that big chunk of people at 0\n",
    "median_drink = dat.loc[dat['_DRNKWK1'] > 0,'_DRNKWK1'].median()\n",
    "dat['drink'] =  np.where(dat['_DRNKWK1']==0,0,np.where(dat['_DRNKWK1'] <= median_drink,1,2))"
   ]
  },
  {
   "cell_type": "code",
   "execution_count": 22,
   "id": "bc14e6bb",
   "metadata": {},
   "outputs": [],
   "source": [
    "#export merged data \n",
    "dat.to_csv('cleaned.csv', index=False)"
   ]
  },
  {
   "cell_type": "code",
   "execution_count": 23,
   "id": "7029f099",
   "metadata": {},
   "outputs": [
    {
     "data": {
      "text/plain": [
       "23.0"
      ]
     },
     "execution_count": 23,
     "metadata": {},
     "output_type": "execute_result"
    }
   ],
   "source": []
  },
  {
   "cell_type": "code",
   "execution_count": null,
   "id": "7dbb3605",
   "metadata": {},
   "outputs": [],
   "source": []
  },
  {
   "cell_type": "code",
   "execution_count": null,
   "id": "8afd744a",
   "metadata": {},
   "outputs": [],
   "source": []
  },
  {
   "cell_type": "code",
   "execution_count": null,
   "id": "c960e0fd",
   "metadata": {},
   "outputs": [],
   "source": []
  }
 ],
 "metadata": {
  "kernelspec": {
   "display_name": "Python 3",
   "language": "python",
   "name": "python3"
  },
  "language_info": {
   "codemirror_mode": {
    "name": "ipython",
    "version": 3
   },
   "file_extension": ".py",
   "mimetype": "text/x-python",
   "name": "python",
   "nbconvert_exporter": "python",
   "pygments_lexer": "ipython3",
   "version": "3.8.8"
  }
 },
 "nbformat": 4,
 "nbformat_minor": 5
}
